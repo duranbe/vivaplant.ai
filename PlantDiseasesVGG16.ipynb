{
 "cells": [
  {
   "cell_type": "code",
   "execution_count": 42,
   "metadata": {},
   "outputs": [],
   "source": [
    "import keras\n",
    "from keras.preprocessing.image import ImageDataGenerator\n",
    "from keras.models import Sequential\n",
    "from keras.layers import Conv2D, MaxPooling2D\n",
    "from keras.layers import Activation, Dropout, Flatten, Dense\n",
    "from keras.applications import VGG16\n",
    "\n",
    "import tensorflow as tf\n",
    "\n",
    "import numpy as np \n",
    "import pandas as pd \n",
    "\n",
    "import os\n",
    "import matplotlib.pyplot as plt"
   ]
  },
  {
   "cell_type": "code",
   "execution_count": 20,
   "metadata": {},
   "outputs": [],
   "source": [
    "val_path = \"data/extracted/New Plant Diseases Dataset(Augmented)/New Plant Diseases Dataset(Augmented)/valid\"\n",
    "train_path = \"data/extracted/New Plant Diseases Dataset(Augmented)/New Plant Diseases Dataset(Augmented)/train\"\n",
    "dirs = os.listdir(train_path)\n",
    "\n",
    "labels = [folder for folder in dirs]"
   ]
  },
  {
   "cell_type": "code",
   "execution_count": 21,
   "metadata": {},
   "outputs": [
    {
     "name": "stdout",
     "output_type": "stream",
     "text": [
      "Found 70295 images belonging to 38 classes.\n",
      "Found 17572 images belonging to 38 classes.\n"
     ]
    }
   ],
   "source": [
    "train_dir = 'data/extracted/New Plant Diseases Dataset(Augmented)/New Plant Diseases Dataset(Augmented)/train/'\n",
    "val_dir = 'data/extracted/New Plant Diseases Dataset(Augmented)/New Plant Diseases Dataset(Augmented)/valid/'\n",
    "\n",
    "train_dirs = [train_dir + lb for lb in labels]\n",
    "val_dirs = [train_dir + lb for lb in labels]\n",
    "batch_size = 32\n",
    "image_width,image_height = 128,128\n",
    "\n",
    "train_datagen = ImageDataGenerator(rescale=1./255)\n",
    "\n",
    "train_generator = train_datagen.flow_from_directory(\n",
    "    train_dir,\n",
    "    target_size=(image_width,image_height),\n",
    "    batch_size=batch_size,\n",
    "    class_mode='categorical')\n",
    "\n",
    "validation_generator = train_datagen.flow_from_directory(\n",
    "    val_dir,\n",
    "    target_size=(image_width,image_height),\n",
    "    batch_size=batch_size,\n",
    "    class_mode='categorical')\n",
    "\n",
    "\n",
    "nb_train_samples = 70295\n",
    "nb_validation_samples = 17572"
   ]
  },
  {
   "cell_type": "code",
   "execution_count": 22,
   "metadata": {},
   "outputs": [
    {
     "name": "stdout",
     "output_type": "stream",
     "text": [
      "Model: \"vgg16\"\n",
      "_________________________________________________________________\n",
      "Layer (type)                 Output Shape              Param #   \n",
      "=================================================================\n",
      "input_2 (InputLayer)         [(None, 128, 128, 3)]     0         \n",
      "_________________________________________________________________\n",
      "block1_conv1 (Conv2D)        (None, 128, 128, 64)      1792      \n",
      "_________________________________________________________________\n",
      "block1_conv2 (Conv2D)        (None, 128, 128, 64)      36928     \n",
      "_________________________________________________________________\n",
      "block1_pool (MaxPooling2D)   (None, 64, 64, 64)        0         \n",
      "_________________________________________________________________\n",
      "block2_conv1 (Conv2D)        (None, 64, 64, 128)       73856     \n",
      "_________________________________________________________________\n",
      "block2_conv2 (Conv2D)        (None, 64, 64, 128)       147584    \n",
      "_________________________________________________________________\n",
      "block2_pool (MaxPooling2D)   (None, 32, 32, 128)       0         \n",
      "_________________________________________________________________\n",
      "block3_conv1 (Conv2D)        (None, 32, 32, 256)       295168    \n",
      "_________________________________________________________________\n",
      "block3_conv2 (Conv2D)        (None, 32, 32, 256)       590080    \n",
      "_________________________________________________________________\n",
      "block3_conv3 (Conv2D)        (None, 32, 32, 256)       590080    \n",
      "_________________________________________________________________\n",
      "block3_pool (MaxPooling2D)   (None, 16, 16, 256)       0         \n",
      "_________________________________________________________________\n",
      "block4_conv1 (Conv2D)        (None, 16, 16, 512)       1180160   \n",
      "_________________________________________________________________\n",
      "block4_conv2 (Conv2D)        (None, 16, 16, 512)       2359808   \n",
      "_________________________________________________________________\n",
      "block4_conv3 (Conv2D)        (None, 16, 16, 512)       2359808   \n",
      "_________________________________________________________________\n",
      "block4_pool (MaxPooling2D)   (None, 8, 8, 512)         0         \n",
      "_________________________________________________________________\n",
      "block5_conv1 (Conv2D)        (None, 8, 8, 512)         2359808   \n",
      "_________________________________________________________________\n",
      "block5_conv2 (Conv2D)        (None, 8, 8, 512)         2359808   \n",
      "_________________________________________________________________\n",
      "block5_conv3 (Conv2D)        (None, 8, 8, 512)         2359808   \n",
      "_________________________________________________________________\n",
      "block5_pool (MaxPooling2D)   (None, 4, 4, 512)         0         \n",
      "=================================================================\n",
      "Total params: 14,714,688\n",
      "Trainable params: 14,714,688\n",
      "Non-trainable params: 0\n",
      "_________________________________________________________________\n"
     ]
    }
   ],
   "source": [
    "vgg16 = VGG16(weights='imagenet',\n",
    "             include_top=False,\n",
    "             input_shape=(128,128,3))\n",
    "\n",
    "vgg16.summary()\n",
    "vgg16.trainable = False"
   ]
  },
  {
   "cell_type": "code",
   "execution_count": 23,
   "metadata": {},
   "outputs": [],
   "source": [
    "model = Sequential()\n",
    "model.add(vgg16)\n",
    "model.add(Flatten())\n",
    "model.add(Dense(64))\n",
    "model.add(Activation('relu'))\n",
    "model.add(Dense(38))\n",
    "model.add(Activation('softmax'))\n",
    "\n",
    "model.compile(loss='categorical_crossentropy',\n",
    "              optimizer='rmsprop',\n",
    "              metrics=['accuracy'])"
   ]
  },
  {
   "cell_type": "code",
   "execution_count": 24,
   "metadata": {},
   "outputs": [
    {
     "name": "stdout",
     "output_type": "stream",
     "text": [
      "Model: \"sequential_1\"\n",
      "_________________________________________________________________\n",
      "Layer (type)                 Output Shape              Param #   \n",
      "=================================================================\n",
      "vgg16 (Functional)           (None, 4, 4, 512)         14714688  \n",
      "_________________________________________________________________\n",
      "flatten_1 (Flatten)          (None, 8192)              0         \n",
      "_________________________________________________________________\n",
      "dense_2 (Dense)              (None, 64)                524352    \n",
      "_________________________________________________________________\n",
      "activation_2 (Activation)    (None, 64)                0         \n",
      "_________________________________________________________________\n",
      "dense_3 (Dense)              (None, 38)                2470      \n",
      "_________________________________________________________________\n",
      "activation_3 (Activation)    (None, 38)                0         \n",
      "=================================================================\n",
      "Total params: 15,241,510\n",
      "Trainable params: 526,822\n",
      "Non-trainable params: 14,714,688\n",
      "_________________________________________________________________\n"
     ]
    }
   ],
   "source": [
    "model.summary()"
   ]
  },
  {
   "cell_type": "code",
   "execution_count": 25,
   "metadata": {},
   "outputs": [
    {
     "name": "stdout",
     "output_type": "stream",
     "text": [
      "Epoch 1/20\n",
      "2196/2196 [==============================] - 311s 142ms/step - loss: 0.7966 - accuracy: 0.7636 - val_loss: 0.4046 - val_accuracy: 0.8678\n",
      "Epoch 2/20\n",
      "2196/2196 [==============================] - 311s 142ms/step - loss: 0.3319 - accuracy: 0.8887 - val_loss: 0.3451 - val_accuracy: 0.8863\n",
      "Epoch 3/20\n",
      "2196/2196 [==============================] - 311s 142ms/step - loss: 0.2521 - accuracy: 0.9150 - val_loss: 0.3314 - val_accuracy: 0.8932\n",
      "Epoch 4/20\n",
      "2196/2196 [==============================] - 311s 142ms/step - loss: 0.2046 - accuracy: 0.9307 - val_loss: 0.2911 - val_accuracy: 0.9077\n",
      "Epoch 5/20\n",
      "2196/2196 [==============================] - 309s 141ms/step - loss: 0.1754 - accuracy: 0.9405 - val_loss: 0.4334 - val_accuracy: 0.8765\n",
      "Epoch 6/20\n",
      "2196/2196 [==============================] - 310s 141ms/step - loss: 0.1540 - accuracy: 0.9478 - val_loss: 0.3578 - val_accuracy: 0.8987\n",
      "Epoch 7/20\n",
      "2196/2196 [==============================] - 310s 141ms/step - loss: 0.1349 - accuracy: 0.9535 - val_loss: 0.4236 - val_accuracy: 0.8874\n",
      "Epoch 8/20\n",
      "2196/2196 [==============================] - 313s 143ms/step - loss: 0.1219 - accuracy: 0.9579 - val_loss: 0.3290 - val_accuracy: 0.9106\n",
      "Epoch 9/20\n",
      "2196/2196 [==============================] - 314s 143ms/step - loss: 0.1103 - accuracy: 0.9621 - val_loss: 0.3436 - val_accuracy: 0.9117\n",
      "Epoch 10/20\n",
      "2196/2196 [==============================] - 304s 138ms/step - loss: 0.0981 - accuracy: 0.9662 - val_loss: 0.4054 - val_accuracy: 0.9022\n",
      "Epoch 11/20\n",
      "2196/2196 [==============================] - 305s 139ms/step - loss: 0.0914 - accuracy: 0.9695 - val_loss: 0.3936 - val_accuracy: 0.9099\n",
      "Epoch 12/20\n",
      "2196/2196 [==============================] - 312s 142ms/step - loss: 0.0837 - accuracy: 0.9713 - val_loss: 0.3500 - val_accuracy: 0.9191\n",
      "Epoch 13/20\n",
      "2196/2196 [==============================] - 313s 143ms/step - loss: 0.0761 - accuracy: 0.9743 - val_loss: 0.3862 - val_accuracy: 0.9162\n",
      "Epoch 14/20\n",
      "2196/2196 [==============================] - 312s 142ms/step - loss: 0.0710 - accuracy: 0.9759 - val_loss: 0.4893 - val_accuracy: 0.9016\n",
      "Epoch 15/20\n",
      "2196/2196 [==============================] - 313s 142ms/step - loss: 0.0646 - accuracy: 0.9779 - val_loss: 0.4946 - val_accuracy: 0.9028\n",
      "Epoch 16/20\n",
      "2196/2196 [==============================] - 311s 142ms/step - loss: 0.0602 - accuracy: 0.9796 - val_loss: 0.4464 - val_accuracy: 0.9117\n",
      "Epoch 17/20\n",
      "2196/2196 [==============================] - 312s 142ms/step - loss: 0.0564 - accuracy: 0.9806 - val_loss: 0.3890 - val_accuracy: 0.9235\n",
      "Epoch 18/20\n",
      "2196/2196 [==============================] - 313s 142ms/step - loss: 0.0525 - accuracy: 0.9819 - val_loss: 0.5163 - val_accuracy: 0.9035\n",
      "Epoch 19/20\n",
      "2196/2196 [==============================] - 310s 141ms/step - loss: 0.0506 - accuracy: 0.9834 - val_loss: 0.4099 - val_accuracy: 0.9266\n",
      "Epoch 20/20\n",
      "2196/2196 [==============================] - 311s 142ms/step - loss: 0.0481 - accuracy: 0.9842 - val_loss: 0.4605 - val_accuracy: 0.9198\n"
     ]
    }
   ],
   "source": [
    "history = model.fit(\n",
    "        train_generator,\n",
    "        steps_per_epoch=nb_train_samples // batch_size,\n",
    "        epochs=20,\n",
    "        validation_data=validation_generator,\n",
    "        validation_steps=nb_validation_samples // batch_size,\n",
    "        verbose=1)"
   ]
  },
  {
   "cell_type": "markdown",
   "metadata": {},
   "source": [
    "## Accuracy per epoch"
   ]
  },
  {
   "cell_type": "code",
   "execution_count": 33,
   "metadata": {},
   "outputs": [
    {
     "data": {
      "text/plain": [
       "[<matplotlib.lines.Line2D at 0x7f70f46ef750>]"
      ]
     },
     "execution_count": 33,
     "metadata": {},
     "output_type": "execute_result"
    },
    {
     "data": {
      "image/png": "[encoded data removed]",
      "text/plain": [
       "<Figure size 432x288 with 1 Axes>"
      ]
     },
     "metadata": {
      "needs_background": "light"
     },
     "output_type": "display_data"
    }
   ],
   "source": [
    "plt.plot(np.arange(0,20),history.history['accuracy'])\n",
    "plt.plot(np.arange(0,20),history.history['val_accuracy'])"
   ]
  },
  {
   "cell_type": "markdown",
   "metadata": {},
   "source": [
    "## Loss per epoch"
   ]
  },
  {
   "cell_type": "code",
   "execution_count": 34,
   "metadata": {},
   "outputs": [
    {
     "data": {
      "text/plain": [
       "[<matplotlib.lines.Line2D at 0x7f70f46c5190>]"
      ]
     },
     "execution_count": 34,
     "metadata": {},
     "output_type": "execute_result"
    },
    {
     "data": {
      "image/png": "[encoded data removed]",
      "text/plain": [
       "<Figure size 432x288 with 1 Axes>"
      ]
     },
     "metadata": {
      "needs_background": "light"
     },
     "output_type": "display_data"
    }
   ],
   "source": [
    "plt.plot(np.arange(0,20),history.history['loss'])\n",
    "plt.plot(np.arange(0,20),history.history['val_loss'])"
   ]
  },
  {
   "cell_type": "markdown",
   "metadata": {},
   "source": [
    "## Citation"
   ]
  },
  {
   "cell_type": "markdown",
   "metadata": {},
   "source": [
    "Ferentinos, Konstantinos. (2018). Deep learning models for plant disease detection and diagnosis. Computers and Electronics in Agriculture. 145. 311-318. 10.1016/j.compag.2018.01.009. "
   ]
  },
  {
   "cell_type": "markdown",
   "metadata": {},
   "source": [
    "[ResearchGate Link](https://www.researchgate.net/publication/322941653_Deep_learning_models_for_plant_disease_detection_and_diagnosis)"
   ]
  }
 ],
 "metadata": {
  "instance_type": "ml.g4dn.xlarge",
  "kernelspec": {
   "display_name": "Python 3 (TensorFlow 2.3 Python 3.7 GPU Optimized)",
   "language": "python",
   "name": "python3__SAGEMAKER_INTERNAL__arn:aws:sagemaker:eu-central-1:936697816551:image/tensorflow-2.3-gpu-py37-cu110-ubuntu18.04-v3"
  },
  "language_info": {
   "codemirror_mode": {
    "name": "ipython",
    "version": 3
   },
   "file_extension": ".py",
   "mimetype": "text/x-python",
   "name": "python",
   "nbconvert_exporter": "python",
   "pygments_lexer": "ipython3",
   "version": "3.7.10"
  }
 },
 "nbformat": 4,
 "nbformat_minor": 4
}
